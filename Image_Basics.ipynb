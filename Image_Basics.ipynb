{
 "cells": [
  {
   "attachments": {},
   "cell_type": "markdown",
   "id": "dcf34cc0",
   "metadata": {},
   "source": [
    "# Bilderverarbeitung in Python\n",
    "\n",
    "In diesem Notebook bringen wir Dir ein paar Grundlagen bei, wie man in **Python** mit Bildern arbeiten kann. Du lernst Bilder zu laden und leicht zu bearbeiten. Damit weißt du dann auch schon alles, damit wir endlich mit Quantencomputern beginnen können."
   ]
  },
  {
   "attachments": {},
   "cell_type": "markdown",
   "id": "7db650b6",
   "metadata": {},
   "source": [
    "Falls du bisher noch nicht programmiert hast, Python noch nicht kennst oder einfach nochmal etwas nachschlagen willst, schau dir gern die [Grundlagen zur Programmierung mit Python](./Python_Basics.ipynb) an."
   ]
  },
  {
   "attachments": {},
   "cell_type": "markdown",
   "id": "7647ecad",
   "metadata": {},
   "source": [
    "Als erstes müssen wir aber noch ein paar sogenannter `imports` machen. Hier laden wir Funktionen, die andere (oder wir in anderen Dateien) geschrieben haben, damit wir sie in diesem Notebook verwenden können. Du brauchst in der nächsten Zelle also nichts machen oder sie verstehen. Wichtig ist nur, dass du sie ausführst, damit der Computer weiß, dass wir gleich diese Funktionen verwenden wollen. Anschließend können wir sie verwenden wie `print()` oder `len()`, die hatten wir ja auch nicht selbst geschrieben.\n",
    "\n",
    "Danach geht es aber endlich los."
   ]
  },
  {
   "cell_type": "code",
   "execution_count": null,
   "id": "9a49e042",
   "metadata": {},
   "outputs": [],
   "source": [
    "import numpy\n",
    "from utils import show_bw_image, load_image\n",
    "from matplotlib.pyplot import imshow\n",
    "from copy import copy"
   ]
  },
  {
   "attachments": {},
   "cell_type": "markdown",
   "id": "dae72f70",
   "metadata": {},
   "source": [
    "Wie Du wahrscheinlich weißt, sind Bilder aus ganz vielen **Pixeln** zusammengesetzt. Ein Pixel wiederum besteht bei einem Farbbild aus drei Werten: Rot, Grün, Blau - kurz: RGB. Bei einem Schwarz-Weiß-Bild besteht ein Pixel nur aus einem Wert. Aus wie vielen Werten ein Pixel besteht, wird auch als die Anzahl der **Farbkanäle** bezeichnet.  \n",
    "Die Werte geben jeweils an, wie stark die Farbe in diesem Bild ist. Aber dazu gleich mehr.\n",
    "\n",
    "Ein Bild kann man sich somit als eine Art Tabelle vorstellen. Diese hat:\n",
    "- so viele Zeilen wie das Bild hoch ist (in Pixeln)\n",
    "- so viele Spalten wie das Bild breit ist (in Pixeln) \n",
    "\n",
    "In einer Tabellenposition stehen dann die Werte dieses Pixels an genau dieser Stelle. Bei einem Schwarz-Weiß-Bild steht da also ein Wert. Bei einem Farbbild drei Werte. \n",
    "\n",
    "Informatiker und Mathematiker nennen so eine Tabelle auch gerne **Matrix**. Auch in der Schule benutzt man die schon in den oberen Klassenstufen.  \n",
    "\n",
    "Eine Form, um diese Matrix darzustellen, kennst du sogar schon: die Liste. Denn eine Liste kann auch Listen beinhalten. Aber machen wir erstmal ein Beispiel eines Schwarz-Weiß-Bildes."
   ]
  },
  {
   "cell_type": "code",
   "execution_count": null,
   "id": "43040a12",
   "metadata": {},
   "outputs": [],
   "source": [
    "image = [[0, 0, 0], [0, 0, 0], [0, 0, 0], [0, 0, 0]]"
   ]
  },
  {
   "attachments": {},
   "cell_type": "markdown",
   "id": "a8413525",
   "metadata": {},
   "source": [
    "Wie kannst Du dir das vorstellen? Jeder der \"inneren\" Liste (also `[0, 0, 0]`) stellt eine ganze Zeile dar. Die äußere Liste hält alle diese Zeilen zusammen. Die Pixelwerte sind die Zahlen (hier nur `0`).\n",
    "\n",
    "Das ist schon ein Bild. Mit dem folgenden Code, können wir ihn uns anzeigen lassen. (Vergiss nicht vorher die Zelle oben drüber ausgeführt zu haben.)"
   ]
  },
  {
   "cell_type": "code",
   "execution_count": null,
   "id": "589baed1",
   "metadata": {},
   "outputs": [],
   "source": [
    "show_bw_image(image)"
   ]
  },
  {
   "attachments": {},
   "cell_type": "markdown",
   "id": "e77a5917",
   "metadata": {},
   "source": [
    "Nur Schwarz - sehr langweilig. Aber wenn wir mal einen Wert verändern, sieht es schon anders aus. Wir machen aus einer Null eine `255`."
   ]
  },
  {
   "cell_type": "code",
   "execution_count": null,
   "id": "c3bc9fb1",
   "metadata": {},
   "outputs": [],
   "source": [
    "image = [[0, 0, 0], [0, 255, 0], [0, 0, 0], [0, 0, 0]]\n",
    "show_bw_image(image)"
   ]
  },
  {
   "attachments": {},
   "cell_type": "markdown",
   "id": "6605bd5a",
   "metadata": {},
   "source": [
    "Jetzt kann man schon viel besser erkennen, was wir da eigentlich gemacht haben. \n",
    "\n",
    "Die inneren Liste sind ja jeweils eine Zeile. Die Länge dieser Listen gibt also an, wie viele Pixel in einer Zeile sind. \n",
    "\n",
    "Wie viele Listen in der äußeren Liste sind, legt fest, wie viele Zeilen es gibt. Ihre Länge ist also die Höhe des Bildes.\n",
    "\n",
    "Wie wo du oben sehen kannst bedeutet `0` schwarzes Pixel und `255` weißes Pixel. \n",
    "\n",
    "Mit diesem Wissen guck noch einmal, warum wir durch die `255` an dieser Stelle einen weißen Pixel an dieser Stelle erzeugt hat. \n",
    "\n",
    "**Aufgabe:** Versuche mal den Pixel ganz unten links auf weiß zu setzen."
   ]
  },
  {
   "cell_type": "code",
   "execution_count": null,
   "id": "3aebfcf1",
   "metadata": {},
   "outputs": [],
   "source": [
    "image = [[0, 0, 0], [0, 255, 0], [0, 0, 0], [0, 0, 0]]\n",
    "show_bw_image(image)"
   ]
  },
  {
   "attachments": {},
   "cell_type": "markdown",
   "id": "311f53d4",
   "metadata": {},
   "source": [
    "Wie Du dir vielleicht schon gedach hast, kann man nicht nur `0` oder `255`nehmen. Das ist nämlich ein fließende Übergang von Schwarz zu Weiß. So ist zum Beispiel `127` genau die Mitte und Grau. \n",
    "\n",
    "**Aufgabe:** Passe mal beliebig die Werte an und erzeuge so ein eigenes, kleines \"Bild\". Beachte: Die Werte dürfen nur zwischen `0` und `255` liegen."
   ]
  },
  {
   "cell_type": "code",
   "execution_count": null,
   "id": "9c105004",
   "metadata": {},
   "outputs": [],
   "source": [
    "image = [[0, 0, 0], [0, 127, 0], [0, 0, 0], [0, 0, 0]]\n",
    "show_bw_image(image)"
   ]
  },
  {
   "attachments": {},
   "cell_type": "markdown",
   "id": "c25984e9",
   "metadata": {},
   "source": [
    "# Farbbilder als numpy array\n",
    "\n",
    "Mit so kleinen Schwarz-Weiß-Bildern ist das mit Listen (von Listen) noch möglich. Danach wird es schnell unübersichtlich, denn \"normale\" Bilder bestehen aus Millionen von Werten. Für den Computer wäre das kein Problem, der kann damit gut umgehen. Aber effektiv kann der damit auch nicht mehr wirklich arbeiten. Deswegen nutzt man sogenannte `arrays` aus dem Paket `numpy`. Pakete beinhalten viele Datentypen und Funktionen aus einem Bereich. Wir nutzen numpy jetzt für Bilder.\n",
    "\n",
    "Array, Matrix und Tabelle sind eigentlich genau das gleiche: immer eine Liste von Listen von Listen ... \n",
    "Wie oft man so Listen verschachtelt nennt man auch seine **Dimension**. Ein Schwarz-Weißbild hat die Dimension `2`, ein Farbbild die Dimension `3`.\n",
    "\n",
    "So laden wir ein Bild von unserem Computer. Den Pfad zu der Datei müssen wir an diese Funktion als String übergeben."
   ]
  },
  {
   "cell_type": "code",
   "execution_count": null,
   "id": "07415de5",
   "metadata": {},
   "outputs": [],
   "source": [
    "image = load_image(\"./images/Kitten.jpg\")"
   ]
  },
  {
   "attachments": {},
   "cell_type": "markdown",
   "id": "5d9c5020",
   "metadata": {},
   "source": [
    "Mit dem nächsten Code, können wir ein Farbbild anzeigen lassen. Damit das funktioniert, musst du erst die vorherige Zelle ausgeführt haben.\n",
    "\n",
    "(Da kommt noch eine komische Zeile Text vor dem Bild. Die kannst du ignorieren.)"
   ]
  },
  {
   "cell_type": "code",
   "execution_count": null,
   "id": "031311b9",
   "metadata": {},
   "outputs": [],
   "source": [
    "imshow(image)"
   ]
  },
  {
   "attachments": {},
   "cell_type": "markdown",
   "id": "d7ed4cf4",
   "metadata": {},
   "source": [
    "An der Achsenbeschriftung kannst du hier schon sehen, wie groß dieses Bild in Pixeln ungefähr ist. Da das Bild als numpy array geladen wurde, gibt es aber auch die Möglichkeit `shape` zu benutzen, das uns das exakt für jede Dimension verrät. Ähnlich wie es `len()` bei Listen getan hat. `shape` rufen wir aber direkt auf der Liste mit einem Punkt getrennt auf (das hast du auch schon gesehen. Bei `my_list.append()` um etwas an eine Liste anzuhängen. Da wurde `append()` auch direkt angehängt.). \n",
    "\n",
    "`shape` ist keine Funktion, sondern eine Eigenschaft, die das numpy array hat (Informatiker nennen das auch Attribut). Deswegen gibt es auch nicht, wie sonst bei Funktionen, runde Klammern."
   ]
  },
  {
   "cell_type": "code",
   "execution_count": null,
   "id": "27e58c89",
   "metadata": {},
   "outputs": [],
   "source": [
    "print(image.shape)\n",
    "\n",
    "print(\"Anzahl Zeilen:\", image.shape[0])\n",
    "print(\"Anzahl Spalten:\", image.shape[1])\n",
    "print(\"Anzahl Farbkanäle:\", image.shape[2])"
   ]
  },
  {
   "attachments": {},
   "cell_type": "markdown",
   "id": "92e412cd",
   "metadata": {},
   "source": [
    "Wie du siehst, gibt `shape` auch eine Liste zurück. Mit den eckigen Klammern und einem Index können wir wieder einzelne Elemente aufrufen.\n",
    "\n",
    "Dieses Bild hat also 210 (Pixel-) Zeilen, 262 (Pixel-) Spalten und drei Farbkanäle (RGB). Das sind insgesamt `210 * 262 * 3 = 165060` Werte, um diese kleine Katze darzustellen!\n",
    "\n",
    "Genau wie bei Listen können wir uns mit eckigen Klammer `[]` einzelne Werte anzeigen lassen. Hier müssen wir natürlich jetzt 3 Werte angeben. Diese trennen wir mit einem Komma.\n",
    "\n",
    "(Vergiss nicht, in der Informatik fängt man bei 0 an zu zählen)"
   ]
  },
  {
   "cell_type": "code",
   "execution_count": null,
   "id": "e3f387f0",
   "metadata": {},
   "outputs": [],
   "source": [
    "pixel = image[100, 150, 0]\n",
    "print(pixel)"
   ]
  },
  {
   "attachments": {},
   "cell_type": "markdown",
   "id": "6ec7b9a0",
   "metadata": {},
   "source": [
    "Was bedeutet diese 213? In Zeile 100, in Spalte 150 ist der \"rote Wert\" 213. \n",
    "\n",
    "**Aufgabe:** Lass Dir mal den grünen und blauen Wert an dieser Stelle ausgeben. \n",
    "\n",
    "Du kannst auch mal testen, was passiert, wenn man nur zwei Werte in den eckigen Klammern übergibt. Vergiss nicht: Arrays sind ja auch eine Liste von Listen von Listen ..."
   ]
  },
  {
   "cell_type": "code",
   "execution_count": null,
   "id": "9d63af42",
   "metadata": {},
   "outputs": [],
   "source": []
  },
  {
   "attachments": {},
   "cell_type": "markdown",
   "id": "509fe533",
   "metadata": {},
   "source": [
    "Genau so wie mit Listen, kann man auch Werte so neu zuweisen. Wir setzen mal ein Pixel-Wert komplett auf rot. Also den R Wert auf `255` und G und B auf `0`"
   ]
  },
  {
   "cell_type": "code",
   "execution_count": null,
   "id": "f2561b3b",
   "metadata": {},
   "outputs": [],
   "source": [
    "image[25, 200, 0] = 255\n",
    "image[25, 200, 1] = 0\n",
    "image[25, 200, 2] = 0\n",
    "\n",
    "imshow(image)"
   ]
  },
  {
   "attachments": {},
   "cell_type": "markdown",
   "id": "9b140b8b",
   "metadata": {},
   "source": [
    "Ein kleiner roter Punkt ist erschienen!\n",
    "\n",
    "Jetzt ändern wir mal das komplette Bild, indem wir es leicht rötlich einfärben. Dafür erhöhen wir den Rot-Wert in jedem Pixel um 100. Da müssen wir aber aufpassen, denn kein Wert darf über `255` liegen. \n",
    "\n",
    "Um über das Bild zu laufen, nutzen wir zwei `for` Schleifen die ineinander liegen. \n",
    "Versuche mal den folgenden Code zu verstehen. Werfe zur Not noch einmal einen Blick in das andere Notebook. Uns kannst Du natürlich auch immer fragen :)\n",
    "\n",
    "Vorher kommt noch einmal eine Box, die Dir vielleicht hilft, um das Konzept von zwei `for` Schleifen ineinander zu verstehen."
   ]
  },
  {
   "cell_type": "code",
   "execution_count": null,
   "id": "70e9a36a",
   "metadata": {},
   "outputs": [],
   "source": [
    "for i in range(5):\n",
    "    for j in range(3):\n",
    "        print(\"i:\", i, \"  j: \", j)"
   ]
  },
  {
   "attachments": {},
   "cell_type": "markdown",
   "id": "89104839",
   "metadata": {},
   "source": [
    "Wie du siehst wird `i` mit der äußeren Schleife von `0` auf `4` hochgezählt. Da jeweils der innere Code Block ausgeführt wird, zählt eine weitere Schleife `j` hoch. Wichtig für uns: Jede Kombination kommt genau einmal vor: Alle mögliche Werte von `i` mit allen möglichen Werten von `j`. Genau das nutzen wir, um alle Pixel einmal zu besuchen:"
   ]
  },
  {
   "cell_type": "code",
   "execution_count": null,
   "id": "2bd17aa3",
   "metadata": {},
   "outputs": [],
   "source": [
    "# wir laden noch einmal das Bild.\n",
    "# Wir haben ja sonst die ganze Zeit diesen roten Punkt von eben\n",
    "image = load_image(\"./images/Kitten.jpg\")\n",
    "\n",
    "for row in range(\n",
    "    image.shape[0]\n",
    "):  # hier iterieren wir über alle Zeilen und nennen die aktuelle row\n",
    "    for column in range(\n",
    "        image.shape[1]\n",
    "    ):  # hier über alle Spalten und nennen die aktuelle column\n",
    "        # der neue Wert = der alte Wert + 100\n",
    "        old_value = image[row, column, 0]\n",
    "        new_value = old_value + 100\n",
    "\n",
    "        # wir müssen sicherstellen, dass der neue Wert nicht über 255 liegt.\n",
    "        # Wenn ja, setzen wir ihn auf das Maximum: 255\n",
    "\n",
    "        if new_value > 255:\n",
    "            new_value = 255\n",
    "\n",
    "        # jetzt können wir den neuen Wert zuweisen\n",
    "\n",
    "        image[row, column, 0] = new_value\n",
    "\n",
    "\n",
    "imshow(image)"
   ]
  },
  {
   "attachments": {},
   "cell_type": "markdown",
   "id": "434507c4",
   "metadata": {},
   "source": [
    "Eine rötliche Katze!\n",
    "\n",
    "**Aufgabe:** Kannst du die Katze auch leicht bläulich einfärben?"
   ]
  },
  {
   "cell_type": "code",
   "execution_count": null,
   "id": "d13d479c",
   "metadata": {},
   "outputs": [],
   "source": [
    "# wir laden noch einmal das Bild.\n",
    "# Wir haben ja sonst die ganze Zeit einen Rot-Stich\n",
    "image = load_image(\"./images/Kitten.jpg\")\n",
    "\n",
    "# Ab hier dein Code"
   ]
  },
  {
   "attachments": {},
   "cell_type": "markdown",
   "id": "d0342e6a",
   "metadata": {},
   "source": [
    "**Zusatzaufgabe:** Nachdem wir die Katze wie ein Osterei bunt eingefärbt haben, lass uns doch nun mal abschließend versuchen alle Farben in dem Bild zu invertieren. Hierfür müssen wir alle Werte in dem Bild von dem Maximalwert ($255$) abziehen. Das bedeutet z.B. für ein Schwarzweißbild, dass Weiß zu Schwarz wird und umgekehrt. Bei mehreren Farbkanälen muss man dass dann für jeden Kanal einzeln machen."
   ]
  },
  {
   "cell_type": "code",
   "execution_count": null,
   "id": "39c4b135",
   "metadata": {},
   "outputs": [],
   "source": [
    "# wir laden das Bild.\n",
    "image = load_image(\"./images/Kitten.jpg\")\n",
    "\n",
    "# Ab hier dein Code\n",
    "\n",
    "image_copy = copy(image)\n",
    "\n",
    "for row in range(\n",
    "    image.shape[0]\n",
    "):  # hier iterieren wir über alle Zeilen und nennen die aktuelle row\n",
    "    for column in range(\n",
    "        image.shape[1]\n",
    "    ):  # hier über alle Spalten und nennen die aktuelle column\n",
    "        # --- Ab hier dein Code ---\n",
    "\n",
    "        # -------------------------\n",
    "        pass\n",
    "\n",
    "imshow(image_copy)"
   ]
  },
  {
   "attachments": {},
   "cell_type": "markdown",
   "id": "f78346bd",
   "metadata": {},
   "source": [
    "Klasse! Nachdem du nun ein paar Grundlagen zu Bildverarbeitung kennengelernt hast, können wir mit den Quantencomputern loslegen. Klicke dazu einfach [hier](./QolorQoding.ipynb).\n",
    "\n",
    "Wenn du nochmal etwas in den Python Grundlagen nachschauen möchtest, kannst du das [hier](./Python_Basics.ipynb) machen."
   ]
  }
 ],
 "metadata": {
  "kernelspec": {
   "display_name": "Python 3.10.10 ('.venv': poetry)",
   "language": "python",
   "name": "python3"
  },
  "language_info": {
   "codemirror_mode": {
    "name": "ipython",
    "version": 3
   },
   "file_extension": ".py",
   "mimetype": "text/x-python",
   "name": "python",
   "nbconvert_exporter": "python",
   "pygments_lexer": "ipython3",
   "version": "3.10.10"
  },
  "vscode": {
   "interpreter": {
    "hash": "a016c0cab06263cf1ce784a51b6ca9453aa2e7e0116c86131700c7e04108fac5"
   }
  }
 },
 "nbformat": 4,
 "nbformat_minor": 5
}
