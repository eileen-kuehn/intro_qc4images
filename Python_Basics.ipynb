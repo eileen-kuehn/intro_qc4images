{
 "cells": [
  {
   "attachments": {},
   "cell_type": "markdown",
   "id": "9ac38ec5",
   "metadata": {},
   "source": [
    "# Hello World\n",
    "\n",
    "Zum Programmieren nutzen wir heute die Programmiersprache **Python**. Hier wollen wir dir ein paar Grundlagen beibringen. Dazu nutzen wir ein sogenanntes Notebook, das du gerade vor dir hast. Notebooks bestehen aus Zellen (Cells), die entweder Text beinhalten (so wie diese hier) oder Code (so wie die folgende). Code-Zellen kannst du ausführen, indem du in die Zelle klickst und dann oben in der Leiste auf `Run` klickst oder du drückst `Strg`+ `Enter`. Probiere es mal bei der folgenden Zelle. "
   ]
  },
  {
   "cell_type": "code",
   "execution_count": null,
   "id": "e772074d",
   "metadata": {},
   "outputs": [],
   "source": [
    "print(\"Hello World\")"
   ]
  },
  {
   "attachments": {},
   "cell_type": "markdown",
   "id": "1adc92a0",
   "metadata": {},
   "source": [
    "Unter der Zelle sollte der Spruch \"Hello World\" erschienen sein. Mit dem `print()`-Befehl, kann man sich nämlich ausgeben lassen, was in den runden Klammern steht. Texte müssen in Programmiersprachen mit Anführungszeichen gekennzeichnet sein und werden auch **Strings** (engl. für Zeichenkette) genannt. \n",
    "\n",
    "**Aufgabe:** Probiere mal in der nächsten Zelle deinen Namen mit `print()` ausgeben zu lassen. "
   ]
  },
  {
   "cell_type": "code",
   "execution_count": null,
   "id": "3aa79545",
   "metadata": {},
   "outputs": [],
   "source": [
    "# Schreibe in die nächste Zeile deinen Code und gib deinen Namen aus\n",
    "\n",
    "\n",
    "# Das hier sind übrigens Kommentare. Diese Zeilen beginnen mit einem # und werden vom Computer ignoriert\n",
    "# Deswegen kann man hier schreiben, was man will und es gibt trotzdem keinen Fehler."
   ]
  },
  {
   "attachments": {},
   "cell_type": "markdown",
   "id": "d64bd9d8",
   "metadata": {},
   "source": [
    "Doktorand Christof hat sich auch an dieser Aufgabe versucht. Sein Code findest du in der nächsten Zelle. Führe mal seinen Code aus."
   ]
  },
  {
   "cell_type": "code",
   "execution_count": null,
   "id": "5f44d9d7",
   "metadata": {},
   "outputs": [],
   "source": [
    "# print(Christof)"
   ]
  },
  {
   "attachments": {},
   "cell_type": "markdown",
   "id": "c02a6c7c",
   "metadata": {},
   "source": [
    "Oh Mist, da hat er wohl etwas falsch gemacht – es gab eine Fehlermeldung. Fehlermeldungen sind immer recht schwer zu verstehen. Frage uns gern, wenn du eine bekommst. Aber wie du siehst, ist nichts schlimmes passiert und auch der Computer ist nicht in Flammen aufgegangen 🔥 Also probiere in den Notebooks gerne Dinge aus, auch wenn du dir nicht 100% sicher bist, dass alles stimmt!  \n",
    "\n",
    "Kannst du erkennen, was der Fehler von Christof war? Versuche den Fehler zu berichtigen und führe die Zelle erneut aus, um seinen Namen auszugeben. "
   ]
  },
  {
   "attachments": {},
   "cell_type": "markdown",
   "id": "cfe14821",
   "metadata": {},
   "source": [
    "# Variablen\n",
    "\n",
    "Variablen kennst du wahrscheinlich aus dem Matheunterricht. Da heißen die meist `x` und `y`. Auch beim Programmieren werden Variablen als eine Art Platzhalter verwendet. So kann man einer Variable (die man fast beliebig nennen kann – aber eben nur fast) einen Wert geben/zuweisen. So wie hier:"
   ]
  },
  {
   "cell_type": "code",
   "execution_count": null,
   "id": "5fe1e4be",
   "metadata": {},
   "outputs": [],
   "source": [
    "a = \"Hello World\"\n",
    "print(a)"
   ]
  },
  {
   "attachments": {},
   "cell_type": "markdown",
   "id": "4f8c57e0",
   "metadata": {},
   "source": [
    "Es passiert genau das gleiche wie in der ersten Zelle, aber diesmal haben wir `\"Hello World\"` der Variablen `a` zugewiesen. Wir können jetzt solange `a` als Stellvertreter für `\"Hello World\"` verwenden, bis wir `a` einen neuen Wert zuweisen. Das geht in Notebooks sogar über Zellen hinweg. Der Wert für `a` wird sich also gemerkt. Du kannst die folgende Zelle ausführen, um dir anzugucken, wie sich die Variable `a` ändert."
   ]
  },
  {
   "cell_type": "code",
   "execution_count": null,
   "id": "6025d304",
   "metadata": {},
   "outputs": [],
   "source": [
    "print(\"a steht gerade für:\", a)\n",
    "# wie du siehst, kann man an print() mehrere Sache übergeben, wenn man sie mit einem Komma trennt.\n",
    "\n",
    "# jetzt geben wir a einen neuen Wert\n",
    "a = \"Hello Karlsruhe\"\n",
    "print(\"jetzt steht a für:\", a)"
   ]
  },
  {
   "attachments": {},
   "cell_type": "markdown",
   "id": "3bae06f8",
   "metadata": {},
   "source": [
    "Variablen haben einen sogenannte **Datentyp**, der sagt, was für eine Art von Wert sie speichern. Einen kennst du schon - nämlich *String*. Das ist quasi der Datentyp für Text. Andere Datentypen sind zum Beispiel (Komma-) Zahlen oder *Boolesche Werte* (hier gehen nur die Werte *True* oder *False*, also \"wahr\" oder \"falsch\"). In Python muss man bei der Erstellung einer Variablen aber nicht angeben, was diese für einen Typ hat. Python erkennt das automatisch. Hier ein paar Beispiele: "
   ]
  },
  {
   "cell_type": "code",
   "execution_count": null,
   "id": "7d4241db",
   "metadata": {},
   "outputs": [],
   "source": [
    "var1 = 1  # eine Zahl\n",
    "var2 = 9.1  # ein Kommazahl\n",
    "var3 = True  # ein Bool\n",
    "var4 = False  # ein Bool"
   ]
  },
  {
   "attachments": {},
   "cell_type": "markdown",
   "id": "8b845189",
   "metadata": {},
   "source": [
    "Gerade die Zahlen sind recht ähnlich zur Mathematik. In Python kann man mit diesen sogar rechnen, wie mit einem Taschenrechner:"
   ]
  },
  {
   "cell_type": "code",
   "execution_count": null,
   "id": "096e3ba1",
   "metadata": {},
   "outputs": [],
   "source": [
    "result = 5 + 6.3\n",
    "print(result)"
   ]
  },
  {
   "attachments": {},
   "cell_type": "markdown",
   "id": "c3103df4",
   "metadata": {},
   "source": [
    "**Aufgabe:** Versuche selbst mal ein paar einfache Matheaufgaben ausrechnen zu lassen und dir das Ergebnis anzeigen zu lassen. Du kannst `+`, `-`, `*` und `/`. Auch Klammern `()` funktionieren."
   ]
  },
  {
   "cell_type": "code",
   "execution_count": null,
   "id": "0b2e2ea2",
   "metadata": {},
   "outputs": [],
   "source": []
  },
  {
   "attachments": {},
   "cell_type": "markdown",
   "id": "99f2090a",
   "metadata": {},
   "source": [
    "Man kann sogar Dinge machen, die in der Mathematik nicht gehen. Denn deine Mathelehrerin / dein Mathelehrer wird dir zum Beispiel sagen, dass \n",
    "\n",
    "`x = x + 1` \n",
    "\n",
    "nicht korrekt ist (denn wenn man auf beiden Seiten des Gleichheitszeichen `x` abzieht, würde da `0 = 1` stehen. Was natürlich nicht stimmt).\n",
    "\n",
    "Beim Programmieren funktioniert allerdings die Zeile `x = x + 1`! Denn da wird die Variable `x` auf `x + 1` gesetzt. Auf der rechten Seite wird also der **alte** Wert von `x` genommen und `1` dazugerechnet. Das ist dann der **neue** Wert von `x`.\n",
    "\n",
    "Das funktioniert natürlich nur wenn die Variable eine Zahl ist. Führe mal die folgende Zelle aus und gucke, was passiert. Statt `1` kannst du auch eine andere Zahl nehmen. Statt `+` funktioniert das auch mit `-`, `*` oder `/`. Probiere es mal aus."
   ]
  },
  {
   "cell_type": "code",
   "execution_count": null,
   "id": "d6b4edfe",
   "metadata": {},
   "outputs": [],
   "source": [
    "x = 4\n",
    "\n",
    "print(\"Alter Wert\", x)\n",
    "\n",
    "x = x + 1\n",
    "\n",
    "print(\"Neuer Wert\", x)"
   ]
  },
  {
   "attachments": {},
   "cell_type": "markdown",
   "id": "50b049d5",
   "metadata": {},
   "source": [
    "# Funktionen\n",
    "\n",
    "Zusammen mit Variablen sind Funktionen die Grundlage für das Programmieren. \n",
    "\n",
    "Auch die kennst du wahrscheinlich schon aus dem Matheunterricht. Ein Beispiel wäre `y = 3x + 5`. In höheren Klassenstufen schreibt man auch manchmal `f(x) = 3x + 5`. \n",
    "\n",
    "Das zeigt auch schon ganz gut, wie es beim Programmieren ist. Hier nimmt eine Funktion, die `f` heißt, einen Wert (oder genauer gesagt eine Variable) `x` und rechnet mit dieser rum und man bekommt ein Ergebnis, zB. `f(2) = 3 * 2 + 5 = 11` für `x = 2`. \n",
    "\n",
    "Auch beim Programmieren nimmt eine Funktion Variablen, macht \"irgendwas\" damit und gibt ein Ergebnis zurück. Für das zurückgeben wird das Wort `return` verwendet. Das muss nicht zwingend passieren. Manchmal macht eine Funktion einfach nur etwas und gibt nichts zurück. \n",
    "\n",
    "Wie viele Variablen die Funktion bekommt, kann auch komplett unterschiedlich sein - auch null Variablen geht.  \n",
    "\n",
    "Wie Dir jetzt vielleicht auffällt, kanntest du von Anfang an schon eine Funktion, nämlich `print()`. Diese bietet uns Python selbst schon an. Diese gibt auch nichts zurück, sondern macht einfach nur etwas, indem sie die  Variablen ausgibt mit der man sie aufgerufen hat.\n",
    "\n",
    "Aber jetzt kommt erstmal ein Beispiel. Versuche mal zu verstehen, was hier passiert. (Führe die Zelle auch aus, es wird aber nichts (sichtbares) passieren) "
   ]
  },
  {
   "cell_type": "code",
   "execution_count": null,
   "id": "efa8aaaa",
   "metadata": {},
   "outputs": [],
   "source": [
    "# Funktionen beginnen in python immer mit \"def\" - am Ende ist ein Doppelpunkt\n",
    "def add(a, b):\n",
    "    result = a + b\n",
    "    return result"
   ]
  },
  {
   "attachments": {},
   "cell_type": "markdown",
   "id": "a6cc1e56",
   "metadata": {},
   "source": [
    "Hier wurde eine Funktion `add` geschrieben, die zwei Variablen aufaddiert und das Ergebnis zurückgibt. \n",
    "\n",
    "Die beiden Variablen werden in der Funktion `a` und `b` genannt (so werden sie in der ersten Zeile genann, der quasi die Namen so definiert). Wie die Variablen heißen, mit der wir die Funktion aufrufen, ist egal. In der Funktion werden die beiden Werte addiert und dann wird das Ergebnis mit `return` zurückgegeben. \n",
    "\n",
    "(Wie du siehst, benutz man beim Programmieren eigentlich immer englische Namen für Funktionen (und auch Variablen), damit alle Menschen deinen Code schnell verstehen können. Deswegen haben wir sie `add()` genannt und nicht `addieren()`. Man kann sie aber eigentlich nennen, wie man will.)\n",
    "\n",
    "Bei Funktionen in Python ist es wichtig, dass ab der Definition in der ersten Zeile alles eingerückt wird, bis die Funktionen endet. Das macht man entweder mit `4 Leerzeichen` oder (bevorzugt) indem man einmal `Tab` drückt.\n",
    "\n",
    "Aber jetzt wollen wir auch mal unsere erste eigene Funktion nutzen. Führe die folgende Zelle mal aus. Die Funktion `add()`, die wir oben selbst geschrieben haben, können wir genauso nutzen, wie wir zB. `print()` genutzt haben. "
   ]
  },
  {
   "cell_type": "code",
   "execution_count": null,
   "id": "b63b59ed",
   "metadata": {},
   "outputs": [],
   "source": [
    "var1 = 3\n",
    "var2 = 9.9\n",
    "\n",
    "# jetzt kommt der Funktionsaufruf\n",
    "\n",
    "result = add(var1, var2)\n",
    "print(result)"
   ]
  },
  {
   "attachments": {},
   "cell_type": "markdown",
   "id": "4f7e4953",
   "metadata": {},
   "source": [
    "Vergiss nicht, `var1` und `var2` sind nur Platzhalter. In der Funktion wird `var1` `a` genannt. `var2` wird zu `b`.\n",
    "\n",
    "Man kann auch die Funktion `f` erstellen, die genauso das macht, was wir als Mathe-Beispiel oben hatten."
   ]
  },
  {
   "cell_type": "code",
   "execution_count": null,
   "id": "93f3616c",
   "metadata": {},
   "outputs": [],
   "source": [
    "def f(x):\n",
    "    y = 3 * x + 5\n",
    "    return y\n",
    "\n",
    "\n",
    "result = f(2)\n",
    "print(result)"
   ]
  },
  {
   "attachments": {},
   "cell_type": "markdown",
   "id": "e9af1866",
   "metadata": {},
   "source": [
    "**Aufgabe:** Versuche mal eine eigene Funktion zu schreiben. Zum Beispiel `multiply()`, die zwei Zahlen multipliziert. Rufe sie anschließend mit zwei Zahlen auf. Das Schreiben der Funktion und das Aufrufen kannst du in derselben Zelle machen. Vergiss aber nicht, dass der Code der Methode eingerückt sein muss. Der Code, der die Funktion aufruft dann nicht mehr. "
   ]
  },
  {
   "cell_type": "code",
   "execution_count": null,
   "id": "5d4357e2",
   "metadata": {},
   "outputs": [],
   "source": []
  },
  {
   "attachments": {},
   "cell_type": "markdown",
   "id": "5456be02",
   "metadata": {},
   "source": [
    "# If-Abfrage\n",
    "\n",
    "In quasi jeder Programmiersprache gibt es sogenannt `if` Abfragen. Diese fragen ab, ob eine bestimmte Bedingung erfüllt ist und wenn ja, wird ein Code-Block ausgeführt. Quasi: \"Wenn das wahr ist, führe diese Codezeilen aus\". Dafür gibt es auch den Boolschen Datentyp, den wir weiter oben hatten. Wenn die Bedingung `True` also wahr ist, wird der Code-Block ausgeführt. Der muss wieder eingrückt sein, genau wie bei einer Funktion.\n",
    "\n",
    "Guck Dir den folgenden Code mal an und versuche ihn zu verstehen. Es wird jeweils eine Abfrage gemacht. Wenn diese wahr ist, wird jeweils ein `print()` Befehl ausgeführt. Bevor du die Zelle ausführst, versuche mal vorherzusagen, welche Zeilen ausgegeben werden und welche nicht. \n",
    "\n",
    "**Tipp**: Das Gleichheitszeichen wird in Python ja verwendet, wenn wir Variablen einen Wert geben wollen (z.B. `a = 5`). Will man für `if` Blöcke abfragen, ob zwei Dinge \"gleich\" sind, muss man deswegen zwei Gleichheitszeichen verwenden `==`. Sonst denkt der Computer, Du willst einer Variable einen Wert geben."
   ]
  },
  {
   "cell_type": "code",
   "execution_count": null,
   "id": "2278731a",
   "metadata": {},
   "outputs": [],
   "source": [
    "if True:\n",
    "    print(\"Zeile 2\")\n",
    "\n",
    "if False:\n",
    "    print(\"Zeile 5\")\n",
    "\n",
    "a = 5\n",
    "\n",
    "if 2 + 3 == a:\n",
    "    print(\"Zeile 10\")\n",
    "\n",
    "if a > 4:\n",
    "    print(\"Zeile 13\")\n",
    "\n",
    "if not False:\n",
    "    print(\"Zeile 16\")\n",
    "\n",
    "b = \"Karlsruhe\"\n",
    "\n",
    "if b == \"Karlsruhe\":\n",
    "    print(\"Zeile 21\")"
   ]
  },
  {
   "attachments": {},
   "cell_type": "markdown",
   "id": "0a7fc548",
   "metadata": {},
   "source": [
    "Man kann auch noch einen `else` Block (engl. für \"ansonsten\") hinzufügen. Dieser wird ausgeführt, wenn die Bedingung falsch ist. Es wird also entweder der `if` Block oder der `else` Block ausgeführt - nie beides. "
   ]
  },
  {
   "cell_type": "code",
   "execution_count": null,
   "id": "77d48ed0",
   "metadata": {},
   "outputs": [],
   "source": [
    "number = 1000\n",
    "\n",
    "if number < 100:\n",
    "    print(\"Kleine Zahl\")\n",
    "else:\n",
    "    print(\"Große Zahl\")"
   ]
  },
  {
   "attachments": {},
   "cell_type": "markdown",
   "id": "bec91895",
   "metadata": {},
   "source": [
    "**Aufgabe:** Schreibe eine Funktion, der man eine (String) Variable übergibt. Wenn dieser String genau dein Name ist, soll eine Nachricht augegeben werden, die du frei festlegen darfst. Wird ein andere String übergeben, soll ausgegeben werden \"Das bin nicht ich\". Rufe die Funktion anschließend auf. Vergiss nicht, der Code der Funktion muss eingerückt sein. Der Code-Block der `If`-Abfrage dann sogar noch eine Stufe weiter. "
   ]
  },
  {
   "cell_type": "code",
   "execution_count": null,
   "id": "dde16f21",
   "metadata": {},
   "outputs": [],
   "source": []
  },
  {
   "attachments": {},
   "cell_type": "markdown",
   "id": "4d1dc6e4",
   "metadata": {},
   "source": [
    "**Zusatzaufgabe:** Erweitere die zuvor implementierte Funktion um dein Alter. Deine Funktion nimmt nun also zwei Parameter (Name und Alter) entgegen und überprüft, ob diese mit deinem Namen und deinem Alter übereinstimmen. Ist einer der beiden Werte falsch, soll in jedem Fall \"Das bin nicht ich\" ausgegeben werden."
   ]
  },
  {
   "cell_type": "code",
   "execution_count": null,
   "id": "80f12cb8",
   "metadata": {},
   "outputs": [],
   "source": []
  },
  {
   "attachments": {},
   "cell_type": "markdown",
   "id": "70487eca",
   "metadata": {},
   "source": [
    "# Listen"
   ]
  },
  {
   "attachments": {},
   "cell_type": "markdown",
   "id": "92032587",
   "metadata": {},
   "source": [
    "In Python kann man Listen definieren, die mehrere Variablen beinhalten. Listen werden mit eckigen Klammern gekennzeichnet. "
   ]
  },
  {
   "cell_type": "code",
   "execution_count": null,
   "id": "a51ccd6f",
   "metadata": {},
   "outputs": [],
   "source": [
    "a = 5\n",
    "b = \"Hello\"\n",
    "c = True\n",
    "\n",
    "my_list = [a, b, c]\n",
    "\n",
    "print(my_list)"
   ]
  },
  {
   "attachments": {},
   "cell_type": "markdown",
   "id": "651ab764",
   "metadata": {},
   "source": [
    "Listen können auch leer sein. Mit `append()` kann man Dinge hinzufügen. Anders als bislang, ruft man diese Funktion auf, indem man den Aufruf an den Listenamen anhängt:"
   ]
  },
  {
   "cell_type": "code",
   "execution_count": null,
   "id": "376bbc0b",
   "metadata": {},
   "outputs": [],
   "source": [
    "# Wir definieren eine leere List\n",
    "my_list = []\n",
    "\n",
    "print(my_list)\n",
    "\n",
    "# Wir fügen zwei Elemente hinzu\n",
    "a = 6\n",
    "my_list.append(a)\n",
    "my_list.append(5)\n",
    "\n",
    "print(my_list)"
   ]
  },
  {
   "attachments": {},
   "cell_type": "markdown",
   "id": "2a0cf56a",
   "metadata": {},
   "source": [
    "Man kann auch gezielt auf die Position in einer Liste zugreifen und diese auch so verändern. Das macht man mit den eckigen Klammern. Die gewünschte Position ist dazwischen. \n",
    "\n",
    "**Achtung:** Informatiker fangen bei `0` an zu zählen. Deswegen ist das erste Listenelement an Position `0`. Damit ist quasi jede Stelle um eins verschoben. Wenn eine List also `4` Elemente hätte, müssen wir auf das letzte Element mit `[3]` zugreifen. Führe die folgende Zelle aus, wo alle Elemente einmal aufgerufen werden. "
   ]
  },
  {
   "cell_type": "code",
   "execution_count": null,
   "id": "9ee4c214",
   "metadata": {},
   "outputs": [],
   "source": [
    "my_list = [\"Adler\", \"Biber\", \"Chameleon\", \"Dachs\"]\n",
    "\n",
    "print(my_list[0])\n",
    "print(my_list[1])\n",
    "print(my_list[2])\n",
    "print(my_list[3])"
   ]
  },
  {
   "attachments": {},
   "cell_type": "markdown",
   "id": "7c66189f",
   "metadata": {},
   "source": [
    "Mit den eckigen Klammern können wir auch Werte verändern. Hier ersetzen wir den `Dachs` durch einen `Dackel`."
   ]
  },
  {
   "cell_type": "code",
   "execution_count": null,
   "id": "35af841c",
   "metadata": {},
   "outputs": [],
   "source": [
    "my_list[3] = \"Dackel\"\n",
    "print(my_list)"
   ]
  },
  {
   "attachments": {},
   "cell_type": "markdown",
   "id": "1c147d8d",
   "metadata": {},
   "source": [
    "`len()` ist eine Funktion, die uns ähnlich wie `print` von Python zur Verfügung gestellt wird. Diese gibt uns die Länge einer Liste zurück oder besser gesagt: wie viele Elemente sind in der Liste. "
   ]
  },
  {
   "cell_type": "code",
   "execution_count": null,
   "id": "1b7710ee",
   "metadata": {},
   "outputs": [],
   "source": [
    "print(len(my_list))"
   ]
  },
  {
   "attachments": {},
   "cell_type": "markdown",
   "id": "7821aa49",
   "metadata": {},
   "source": [
    "**Aufgabe:** Schreibe eine Funktion, die eine Liste entgegen nimmt und ausgibt \"Das ist eine lange Liste\", wenn diese mehr als 3 Elemente beinhaltet. Wenn sie weniger Elemente hat, dann gibt sie aus: \"Das ist eine kurze Liste\". Teste sie mit den beiden Listen, die wir schon definiert haben. Die Definitionszeile der Funktion haben wir schon für dich geschrieben. "
   ]
  },
  {
   "cell_type": "code",
   "execution_count": null,
   "id": "b0de8222",
   "metadata": {},
   "outputs": [],
   "source": [
    "list1 = [\"Mathe\", \"Physik\"]\n",
    "list2 = [\"Deutsch\", \"Englisch\", \"Italienisch\", \"Spanisch\", \"Polnisch\"]\n",
    "\n",
    "\n",
    "def check_length(the_list):\n",
    "    print(the_list)\n",
    "    # Schreib deinen Code hier hin\n",
    "\n",
    "\n",
    "check_length(list1)\n",
    "check_length(list2)"
   ]
  },
  {
   "attachments": {},
   "cell_type": "markdown",
   "id": "1d99ad63",
   "metadata": {},
   "source": [
    "**Zusatzaufgabe:** Erweitere deine Funktion so, dass sie auch die Länge des ersten Worts in der Liste ausgibt. Also z.B.: \"Das ist eine lange Liste. Das erste Wort hat so viele Buchstaben: 10\""
   ]
  },
  {
   "cell_type": "code",
   "execution_count": null,
   "id": "24b43035",
   "metadata": {},
   "outputs": [],
   "source": []
  },
  {
   "attachments": {},
   "cell_type": "markdown",
   "id": "b9d880d4",
   "metadata": {},
   "source": [
    "# For-Schleifen\n",
    "\n",
    "`For`-Schleifen sind neben `if`-Abfragen, Funktionen und Variablen ein weiteres Konzept, das man in fast jeder Programmiersprache findet. Mit ihnen kann man über Dinge \"iterieren\" (also \"drübergehen\") - in unserem Fall also Listen. Eine Schleife führt dabei eine eigene Variable ein (die man auch wieder beliebig benennen kann). Diese Variable nimmt dann jeden Wert einer Liste einmal an und mit diesem kann dann etwas machen. \n",
    "\n",
    "Man kann deswegen folgende Schleife quasi lesen als: `Für jedes Element der Liste \"numbers\", das ich in dem Moment \"n\" nenne, mache das Folgende: print(n)`. Führe die Zelle mal aus und gucke, was passiert."
   ]
  },
  {
   "cell_type": "code",
   "execution_count": null,
   "id": "58d5ade9",
   "metadata": {},
   "outputs": [],
   "source": [
    "numbers = [1, 2, 3, 4, 5]\n",
    "\n",
    "for n in numbers:\n",
    "    print(n)\n",
    "print(\"Liste zu Ende\")"
   ]
  },
  {
   "attachments": {},
   "cell_type": "markdown",
   "id": "e6aaa2c9",
   "metadata": {},
   "source": [
    "Wie du siehst muss der Code, der für jedes Element ausgeführt werden soll, auch wieder eingerückt sein.\n",
    "\n",
    "Man kann auch kompliziertere Dinge mit den Elementen machen als sie einfach auszugeben. Was aber so nicht funktioniert, ist die Liste zu verändern. Denn `n` ist ja einfach nur ein Name, wie wir das aktuelle Element nennen, aber nicht dessen Wert. \n",
    "\n",
    "Die folgende Zelle hat also keinen Effekt. `numbers` sieht danach genauso aus wie vorher."
   ]
  },
  {
   "cell_type": "code",
   "execution_count": null,
   "id": "d2195e1d",
   "metadata": {},
   "outputs": [],
   "source": [
    "for n in numbers:\n",
    "    n = n + 1\n",
    "\n",
    "print(numbers)"
   ]
  },
  {
   "attachments": {},
   "cell_type": "markdown",
   "id": "f9027892",
   "metadata": {},
   "source": [
    "Listen durch Schleifen zu verändern, geht aber schon. Da müssen wir aber anders drübergehen. Du hast ja weiter oben schon gelernt, dass man den Eintrag eine Liste ändern kann, wenn man dessen Position kennt (das war das mit den eckigen Klammern `[]`). Wenn wir also über eine Liste drübergehen würden, die alle möglichen Positionen unserer Liste enthält, könnten wir so auch die Inhalte der Liste bearbeiten.\n",
    "\n",
    "Um das zu tun, können wir wieder eine Funktion verwenden, die uns Python bereitstellt und zwar `range()`. Der Aufruf `range(5)` gibt uns nämlich folgende Liste zurück `[0, 1, 2, 3, 4]`."
   ]
  },
  {
   "cell_type": "code",
   "execution_count": null,
   "id": "58f09b0b",
   "metadata": {},
   "outputs": [],
   "source": [
    "for i in range(5):\n",
    "    print(i)"
   ]
  },
  {
   "attachments": {},
   "cell_type": "markdown",
   "id": "0662d6c4",
   "metadata": {},
   "source": [
    "Auch hier wird also von `0` an gezählt. Aber das ist ja sehr praktisch, wenn wir so unsere Liste verändern wollen. Denn für eine Liste mit `5` Elementen, kriegen wir mit `range(5)` alle möglichen Positionen. \n",
    "Und wenn wir nicht wissen, wie viele Elemente eine Liste hat, können wir das mit `len()` abfragen.  \n",
    "\n",
    "Das folgende Stück Code macht vieles auf einmal, was du gerade gelernt hast. Guck mal, ob du vorhersagen kannst, was am Ende rauskommt. "
   ]
  },
  {
   "cell_type": "code",
   "execution_count": null,
   "id": "75f1ce40",
   "metadata": {},
   "outputs": [],
   "source": [
    "numbers = [0, 1, 2, 3, 4]\n",
    "print(numbers)\n",
    "\n",
    "length = len(numbers)\n",
    "\n",
    "for i in range(length):\n",
    "    numbers[i] = numbers[i] + 1\n",
    "\n",
    "print(numbers)"
   ]
  },
  {
   "attachments": {},
   "cell_type": "markdown",
   "id": "4b8d67d4",
   "metadata": {},
   "source": [
    "**Zusatzaufgabe:** Erweitere die Funktion aus vorhergehender Aufgabe ('check_length'), so das sie die Anzahl an Buchstaben für jeden Eintrag der Liste überprüft und den Mittelwert der Länge aller Einträge ausgibt (anstatt nur die Länge des ersten Wortes)."
   ]
  },
  {
   "cell_type": "code",
   "execution_count": null,
   "id": "513694aa",
   "metadata": {},
   "outputs": [],
   "source": []
  },
  {
   "attachments": {},
   "cell_type": "markdown",
   "id": "eea80559",
   "metadata": {},
   "source": [
    "**Zusatzaufgabe:** Abschließend erweitere diese Funktion, so, dass sie die Wörter in der Liste durch die Anzahl der jeweiligen Buchstaben ersetzt und zurückgibt. Deine Funktion bekommt dann also eine Liste von Buchstaben und gibt eine Liste von Zahlen zurück. Nutze hierfür die oben erklärte Technik zum Abändern von Listen und verwende keine neue Liste. "
   ]
  },
  {
   "cell_type": "code",
   "execution_count": null,
   "id": "6fa4c9dd",
   "metadata": {},
   "outputs": [],
   "source": []
  },
  {
   "attachments": {},
   "cell_type": "markdown",
   "id": "4a24fe78",
   "metadata": {},
   "source": [
    "Super! Du hast die Grundlagen für die Programmierung mit Python geschafft und kannst nun zu dem nächsten Notebook über Bildverarbeitung weitermachen. Klicke dazu einfach [hier](./Image_Basics.ipynb)."
   ]
  }
 ],
 "metadata": {
  "kernelspec": {
   "display_name": "Python 3.10.10 ('.venv': poetry)",
   "language": "python",
   "name": "python3"
  },
  "language_info": {
   "codemirror_mode": {
    "name": "ipython",
    "version": 3
   },
   "file_extension": ".py",
   "mimetype": "text/x-python",
   "name": "python",
   "nbconvert_exporter": "python",
   "pygments_lexer": "ipython3",
   "version": "3.10.10"
  },
  "vscode": {
   "interpreter": {
    "hash": "a016c0cab06263cf1ce784a51b6ca9453aa2e7e0116c86131700c7e04108fac5"
   }
  }
 },
 "nbformat": 4,
 "nbformat_minor": 5
}
