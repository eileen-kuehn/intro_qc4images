{
 "cells": [
  {
   "attachments": {},
   "cell_type": "markdown",
   "id": "319fe4d9",
   "metadata": {},
   "source": [
    "# Qolor Qoding\n",
    "\n",
    "Am Anfang müssen wir wieder ein paar Funktionen importieren, die wir verwenden wollen. Dafür musst Du die folgende Zelle einfach nur ausführen."
   ]
  },
  {
   "cell_type": "code",
   "execution_count": null,
   "id": "b902f169",
   "metadata": {},
   "outputs": [],
   "source": [
    "from matplotlib.pyplot import imshow, imsave\n",
    "from copy import copy\n",
    "from utils import load_image, reduce_rgb_values, print_mapping, create_rgb_qubits"
   ]
  },
  {
   "attachments": {},
   "cell_type": "markdown",
   "id": "c82f1f5a",
   "metadata": {},
   "source": [
    "Jetzt kommt noch etwas wichtiges zu Beginn: Hier müssen wir schon festlegen, wie viele Qubits wir verwenden wollen. Du kannst einen Wert zwischen `2` und `8` wählen. Aber fangen wir erstmal mit `2` an, diesen Wert kannst du später noch ändern. "
   ]
  },
  {
   "cell_type": "code",
   "execution_count": null,
   "id": "b7e0dc6d",
   "metadata": {},
   "outputs": [],
   "source": [
    "qubits = 2"
   ]
  },
  {
   "attachments": {},
   "cell_type": "markdown",
   "id": "d7d2c181",
   "metadata": {},
   "source": [
    "[Hier](./Image_Basics.ipynb) findest du übrigens die Grundlagen zur Bildverarbeitung falls du nochmal etwas nachschauen möchtest."
   ]
  },
  {
   "attachments": {},
   "cell_type": "markdown",
   "id": "70ed34b6",
   "metadata": {},
   "source": [
    "## Bild laden\n",
    "\n",
    "Zunächst müssen wir das Bild wieder laden. Das geht genauso wie eben. Auch die Größe lassen wir uns wieder anzeigen."
   ]
  },
  {
   "cell_type": "code",
   "execution_count": null,
   "id": "4c85d227",
   "metadata": {},
   "outputs": [],
   "source": [
    "original_image = load_image(\"./images/Cat.jpg\")\n",
    "print(\"Das Bild hat folgende Dimensionen:\", original_image.shape)\n",
    "\n",
    "imshow(original_image)"
   ]
  },
  {
   "attachments": {},
   "cell_type": "markdown",
   "id": "1e91a3a0",
   "metadata": {},
   "source": [
    "## Werte reduzieren\n",
    "\n",
    "Jetzt wird es ein wenig kompliziert. Farbwerte können Werte zwischen `0` und `255` annehmen. Ein Computer benötigt dafür genau `8 Bit` - also 8 Werte, die Null oder Eins sind. \n",
    "\n",
    "Diese acht Werte kriegen wir heute schon locker auf einen Quantencomputer, aber weniger wäre trotzdem besser. Denn weniger Werte bedeuten immer weniger Rechenaufwand - auf normalen Computern und auf Quantencomputern. \n",
    "\n",
    "Was und wie macht das der folgende Code Block? Hierfür ein kleines Beispiel. \n",
    "\n",
    "Stell dir vor, du willst einer Freundin eine zweistellige Zahl übermitteln, also zB. `63`. Dafür darfst du ihr aber nur eine einstellige Zahl mitteilen. Wie könntest du das machen? \n",
    "\n",
    "Nun - perfekt geht das nicht. Man kann nicht eine Nachricht schicken, die mehr Infos hat als Stellen. Man kann aber nah drankommen. Du könntest deine Zahl zum Beispiel auf die nächste Zehnerstelle runden und deiner Freundin dann die Zehnerstelle nennen, also `63` runden auf `60` und deiner Freundin dann die `6` nennen. Diese müsste dann `6` mit `10` multiplizieren und wüsste: \"Die Zahl war ungefähr 60\". \n",
    "Das ist natürlich nicht perfekt. Informationen gehen verloren, aber statt 2 Ziffern musst du nur eine übergeben - stell dir das mal in einem ganz großen Stil vor. \n",
    "\n",
    "Genau das macht die folgenden Funktion nur eben auf Basis von Bits. So sparen wir für jeden Pixelwert etliche Ziffern bzw. Bits - das sind Millionen für ein ganzes Bild! \n",
    "\n",
    "Führe die folgende Zelle einfach nur aus. Das Bild wird nach dieser Reduzierung ein bisschen anders aussehen, denn auch hier gehen ja Informationen und damit Details verloren. Wenn du das ganze noch besser verstehen willst, frag uns einfach :)\n",
    "\n",
    "Wenn du ganz oben mehr qubits angegeben hast, gehen weniger Infos verloren, weil wir erlauben mehr zu übergeben. Bei `8` Qubits gibt es keinen Informationsverlust, dann dauert die Bildbearbeitung aber lange. "
   ]
  },
  {
   "cell_type": "code",
   "execution_count": null,
   "id": "55939e5d",
   "metadata": {},
   "outputs": [],
   "source": [
    "image = reduce_rgb_values(original_image, qubits)\n",
    "imshow(image)"
   ]
  },
  {
   "attachments": {},
   "cell_type": "markdown",
   "id": "2ea01e41",
   "metadata": {},
   "source": [
    "## Bildteile auswählen \n",
    "\n",
    "Wir können natürlich alle Pixel auf dem Quanten Computer bearbeiten lassen. Aber es kann auch cool aussehen nur Teile des Bildes umformen zu lassen. \n",
    "\n",
    "Im Folgenden erstellen wir dafür eine Liste, die alle Pixel Positionen beinhalten soll, die transformiert werden sollen. Wir nenne sie `pixels_to_transform`. Die Position eines Pixels wird auch wieder eine Liste mit seinen beiden Werten für Zeile und Spalte - also zB.: `[312, 250]`\n",
    "\n",
    "Schreiben wir erstmal alle Pixel hinein. "
   ]
  },
  {
   "cell_type": "code",
   "execution_count": null,
   "id": "3e6f6118",
   "metadata": {},
   "outputs": [],
   "source": [
    "# Zunächst ist die Liste leer\n",
    "pixels_to_transform = []\n",
    "\n",
    "# jetzt fügen wir wieder mit zwei for Schleifen alle Pixel hinzu\n",
    "\n",
    "for row in range(original_image.shape[0]):\n",
    "    for column in range(original_image.shape[1]):\n",
    "        # jetzt fügen wir die aktuelle Position als Liste hinzu.\n",
    "        pixel = [row, column]\n",
    "        pixels_to_transform.append(pixel)\n",
    "\n",
    "print(\"Finale Länge von 'pixels_to_transform'\", len(pixels_to_transform))\n",
    "print(original_image.shape)"
   ]
  },
  {
   "attachments": {},
   "cell_type": "markdown",
   "id": "f03b10eb",
   "metadata": {},
   "source": [
    "Da wir alle Pixel hinzugefügt haben, ist die Länge der Liste genau `Zeilen * Spalten` des Bildes. \n",
    "\n",
    "### Ein Rechteck auswählen\n",
    "\n",
    "Um nur ein Rechteck zu verändern müssen wir die Position des oberen linken Pixels kennen und die Position des Pixels unten rechts. Alle Pixel, die dazwischen liegen gehören zum Rechteck dazu. \n",
    "\n",
    "Um das ganze umzusetzen, müssen wir aber noch etwas neues lernen zu der `range()` Funktion, die wir schon kennen. Wenn wir `range(5)` schreiben, erhalten wir ja `[0, 1, 2, 3, 4]`. Die Liste beginnt also bei `0` und der Wert, den wir angegeben haben, ist die obere Grenze. Man kann aber auch zwei Werte an `range()` übergeben. Dann ist der erste die untere Grenze und der zweite die obere:"
   ]
  },
  {
   "cell_type": "code",
   "execution_count": null,
   "id": "7a6ed338",
   "metadata": {},
   "outputs": [],
   "source": [
    "for i in range(3, 7):\n",
    "    print(i)"
   ]
  },
  {
   "attachments": {},
   "cell_type": "markdown",
   "id": "14c1dd31",
   "metadata": {},
   "source": [
    "`range(5)` ist also genau das gleiche wie `range(0, 5)`. Führe die letzte Zelle gerne mehrmals mit unterschiedlichen Werten aus, um es besser zu verstehen. \n",
    "\n",
    "Mit diese Wissen können wir jetzt unseren Code von oben anpassen, um nur einen Teil des Bildes auszuwählen. Achte besonders darauf, wie sich die Übergabewerte von `range()` geändert haben. \n",
    "\n",
    "Vorher müssen wir aber natürlich festlegen, von wo nach wo unser Rechteck gehen soll. Dafür nutzen wir zwei Listen, die jeweils Zeile und Spalte der Pixel beinhalten. Kann man auch als x Wert und y Wert von zwei Punkten sehen - wie im Matheunterricht. \n",
    "\n",
    "Du musst natürlich darauf achten, dass die Punkte nicht außerhalb des Bildes liegen. Wir gucken uns in der Code Zelle vorher nochmal an, wie das Bild aussieht. Die Achsen können dir helfen ein Rechteck auszuwählen."
   ]
  },
  {
   "cell_type": "code",
   "execution_count": null,
   "id": "bcc619ba",
   "metadata": {},
   "outputs": [],
   "source": [
    "imshow(image)"
   ]
  },
  {
   "cell_type": "code",
   "execution_count": null,
   "id": "b2c591ee",
   "metadata": {},
   "outputs": [],
   "source": [
    "# wir starten wieder mit einer leeren Liste\n",
    "pixels_to_transform = []\n",
    "\n",
    "# wir definieren das Rechteck\n",
    "top_left = [30, 200]\n",
    "bottom_right = [330, 500]\n",
    "\n",
    "for row in range(top_left[0], bottom_right[0]):\n",
    "    for column in range(top_left[1], bottom_right[1]):\n",
    "        pixel = [row, column]\n",
    "        pixels_to_transform.append(pixel)\n",
    "\n",
    "print(\"Finale Länge von 'pixels_to_transform'\", len(pixels_to_transform))\n",
    "print(original_image.shape)"
   ]
  },
  {
   "attachments": {},
   "cell_type": "markdown",
   "id": "f7b26481",
   "metadata": {},
   "source": [
    "Hat das jetzt funktioniert? Gucken wir uns nochmal alle Pixel an, die wir transformieren wollen. Dazu setzen wir sie einfach mal auf weiß. "
   ]
  },
  {
   "cell_type": "code",
   "execution_count": null,
   "id": "9809ab84",
   "metadata": {},
   "outputs": [],
   "source": [
    "# als erstes erstellen wir eine Kopie, auf der wir Pixel weiß färben\n",
    "# wir wollen ja nicht unser original verändern\n",
    "image_copy = copy(image)\n",
    "\n",
    "for pixel in pixels_to_transform:\n",
    "    row = pixel[0]\n",
    "    column = pixel[1]\n",
    "\n",
    "    image_copy[row, column, 0] = 255  # R\n",
    "    image_copy[row, column, 1] = 255  # G\n",
    "    image_copy[row, column, 2] = 255  # B\n",
    "\n",
    "imshow(image_copy)"
   ]
  },
  {
   "attachments": {},
   "cell_type": "markdown",
   "id": "e2261d38",
   "metadata": {},
   "source": [
    "Spiele damit gerne ein wenig herum. Das Rechteck kannst du beliebig wählen. Wenn du das gesamt Bild willst, führe einfach die entsprechende Zelle nochmal aus (die erste Code-Zelle im Abschnitt \"Bildteile auswählen\"). \n",
    "\n",
    "Die letzte Codezeile kannst du immer nochmal ausführen, um Dir anzeigen zu lasenn, was transformiert wird. "
   ]
  },
  {
   "attachments": {},
   "cell_type": "markdown",
   "id": "95bf6f98",
   "metadata": {},
   "source": [
    "## Los geht's mit Quanten!\n",
    "\n",
    "Hier brauchen wir als erstes ganz viele Imports. Quanten Computer sind kompliziert ;)\n",
    "Führe die folgende Zelle einfach nur aus."
   ]
  },
  {
   "cell_type": "code",
   "execution_count": null,
   "id": "191eacd0",
   "metadata": {},
   "outputs": [],
   "source": [
    "from qiskit import QuantumCircuit\n",
    "from qiskit import Aer\n",
    "from qiskit.circuit.random import random_circuit\n",
    "from qiskit.providers.fake_provider import FakeManilaV2, FakeBoeblingen, FakeMelbourne\n",
    "from utils import (\n",
    "    filling_zeros,\n",
    "    create_mapping,\n",
    "    convert_image,\n",
    "    convert_rgb_image,\n",
    "    get_result,\n",
    "    create_rgb_mapping,\n",
    ")"
   ]
  },
  {
   "attachments": {},
   "cell_type": "markdown",
   "id": "0e82fb35",
   "metadata": {},
   "source": [
    "Ein wesentlicher Bestandteil zum Bedienen von den Quantencomputern wie wir sie heute verwenden möchten, ist die Definition des Quanten-Schaltkreises (Quantum Circuit).\n",
    "Dieses gibt an, wie die Information auf dem Quantencomputer verarbeitet werden. Du kannst Dir das so ein bisschen vorstellen wie die einfachen Operation im allerersten Notebook heute, in dem wir pro Zeile den Wert einer Variable verändert haben.\n",
    "Im dem Fall hier, wäre ein Qubit die Variable und jede Operation (jedes Gate) das wir darauf anwenden verändert diese Variable.\n",
    "\n",
    "Lass uns mal ein ganz einfaches Beispiel machen. Wir erstellen uns ein Circuit mit nur einem einzigen Qubit. Ein Qubit ist zu Beginn immer im Zustand `0`, wir wollen es jetzt in den Zustand `1` ändern. \n",
    "Das funktioniert mit einem sogenannten `x` Gate erreichen, das wir einfach auf `quantum_circuit` aufrufen. Führe die folgende Zelle mal aus. Mit der Funktion `draw()` können wir uns noch zeichnen lassen, wie das Circuit dann aussieht. "
   ]
  },
  {
   "cell_type": "code",
   "execution_count": null,
   "id": "5e443456",
   "metadata": {},
   "outputs": [],
   "source": [
    "# Wir erstellen unser Circuit. Das soll 1 Qubit haben\n",
    "quantum_circuit = QuantumCircuit(1)\n",
    "\n",
    "# Wir fügen das x Gate auf Qubit 0 hinzu\n",
    "# (wir fangen wieder bei 0 an zu zählen)\n",
    "quantum_circuit.x(0)\n",
    "quantum_circuit.draw()"
   ]
  },
  {
   "attachments": {},
   "cell_type": "markdown",
   "id": "672254a5",
   "metadata": {},
   "source": [
    "Super Sache! Aber woher wissen wir denn nun ob das Qubit wirklich verändert wurde?\n",
    "Nun dazu müssen wir es messen. Das geschieht durch anhängen eines Messoperators. Dieser macht aus dem Qubit-Zustand wieder `0` oder `1`. Wir können allgemein beliebig viele Qubits messen, indem wir `measure_all()` auf dem Circuit aufrufen."
   ]
  },
  {
   "cell_type": "code",
   "execution_count": null,
   "id": "6cd94c50",
   "metadata": {},
   "outputs": [],
   "source": [
    "quantum_circuit = QuantumCircuit(1)\n",
    "quantum_circuit.x(0)\n",
    "quantum_circuit.measure_all()\n",
    "quantum_circuit.draw()"
   ]
  },
  {
   "attachments": {},
   "cell_type": "markdown",
   "id": "d85b3475",
   "metadata": {},
   "source": [
    "Jetzt müssen wir das ganze einmal ausführen und können uns das Ergebnis direkt anzeigen lassen."
   ]
  },
  {
   "cell_type": "code",
   "execution_count": null,
   "id": "2304f979",
   "metadata": {},
   "outputs": [],
   "source": [
    "result = get_result(quantum_circuit)\n",
    "\n",
    "print(result)"
   ]
  },
  {
   "attachments": {},
   "cell_type": "markdown",
   "id": "73de6af7",
   "metadata": {},
   "source": [
    "Das lässt sich so interpretieren, als, dass der Zustand '1' in 100% der Fälle gemessen wurde.\n",
    "\n"
   ]
  },
  {
   "attachments": {},
   "cell_type": "markdown",
   "id": "20d133c9",
   "metadata": {},
   "source": [
    "## Die umgekehrte Katze\n",
    "\n",
    "Dann lass uns mal schauen, ob wir das bisherige Wissen über Quanten Computer schon auf Bilder übertragen können.\n",
    "Wir wissen ja jetzt, dass ein `X` Gate den Zustand unseres Qubits einmal umkehrt.\n",
    "Das können wir nutzen um z.B. den Ausschnit aus unserem Katzenbild zu invertieren, genauso wie wir es in dem Notebook zuvor gemacht haben.\n",
    "\n",
    "**Aufgabe:** Schreibe eine For-Schleife in der du auf jedes der verfügbaren Qubits ein `X` Gate anwendest"
   ]
  },
  {
   "cell_type": "code",
   "execution_count": null,
   "id": "f6f26dbf",
   "metadata": {},
   "outputs": [],
   "source": [
    "quantum_circuit = QuantumCircuit(qubits)\n",
    "\n",
    "# --- Ab hier dein Code ---\n",
    "\n",
    "\n",
    "# -------------------------\n",
    "\n",
    "quantum_circuit.draw()"
   ]
  },
  {
   "attachments": {},
   "cell_type": "markdown",
   "id": "40383e8b",
   "metadata": {},
   "source": [
    "Beachte hierbei, dass wir aktuell die einzelnen Bits betrachten, aus denen ein einziger Wert des Bildes zusammengesetzt ist.\n",
    "Unser Quanten Circuit muss also auf jedes Pixel und auf jeden Kanal (Rot, Grün, Blau) des Bildes angewandt werden.\n",
    "\n",
    "Da unser Quanten Circuit aber jedesmal das gleiche ist, können wir uns die Abbildung (Mapping) der einzelnen Bits von dem Eingangs- auf den Ausgangswert einmal speichern und dann auf das gesamte Bild anwenden.\n",
    "Das spart uns einiges an Rechenzeit auf dem Quantencomputer!\n",
    "\n",
    "Genau das wird in den folgenden Zeilen gemacht. Zuerst erzeugen wir ein `Mapping` (hierbei wird der Quantencomputer genutzt) und anschliessend wenden wir dieses auf den Bildausschnit `pixels_to_transform` unseres Katzenbildes an."
   ]
  },
  {
   "cell_type": "code",
   "execution_count": null,
   "id": "bca43a21",
   "metadata": {},
   "outputs": [],
   "source": [
    "mapping = create_mapping(quantum_circuit)\n",
    "q_image = convert_image(qubits, image, mapping, pixels_to_transform)\n",
    "imshow(q_image)"
   ]
  },
  {
   "attachments": {},
   "cell_type": "markdown",
   "id": "f472fe5c",
   "metadata": {},
   "source": [
    "Perfekt! Welches Mapping haben wir denn jetzt mit dem Quantencomputer erzeugt? Das können wir und mit einer Funktion anzigen lassen, die wir für Dich geschrieben haben. Führe dafür mal die folgende Codezeile aus."
   ]
  },
  {
   "cell_type": "code",
   "execution_count": null,
   "id": "79a8c845",
   "metadata": {},
   "outputs": [],
   "source": [
    "print_mapping(mapping)"
   ]
  },
  {
   "attachments": {},
   "cell_type": "markdown",
   "id": "8b3463c2",
   "metadata": {},
   "source": [
    "Es wird also quasi aus jeder 0 eine 1 gemacht. Das passt ja: auf deinem Circuit befinden sich auf jedem Qubit ein `x` Gate, das den Wert ändert. \n",
    "\n",
    "Wahrscheinlich hast du es schon gemerkt, aber Qubits sind für einen Quantencomputer das, was Bits für unsere klassischen Computer sind; Die kleinste Informationseinheit die wir mit diesen Geräten abbilden können.\n",
    "Das Spannende ist nun, mit so einem Qubit kann man viel mehr machen, als wir es mit einem klassischen Bit könnte!\n",
    "\n",
    "Ein Qubit kann nicht nur entweder 0 oder 1 sein, sondern beides gleichzeitig mit einer gewissen Wahrscheinlichkeit. Klingt ein bisschen komisch?\n",
    "\n",
    "Stell dir jetzt einfach vor, im klassischen haben wir nur einen Strich an dessen Endpunkten entweder `0` oder `1` steht. Genau diese und nur diese beide Zustände können wir einnehmen.\n",
    "Im Quantencomputing haben wir nun für ein Qubit die Möglichkeit als Zustand jeden erdenklichen Punkt auf der Oberfläche einer Kugel einzunehmen. \n",
    "\n",
    "![Bit und Qubit Darstellung](images/qbits.png)\n"
   ]
  },
  {
   "attachments": {},
   "cell_type": "markdown",
   "id": "67d01f8c",
   "metadata": {},
   "source": [
    "## Die zufällige Katze\n",
    "\n",
    "Das Problem ist nun, dass wenn wir von dem Quantencomputer wieder auf unseren klassischen Computer gehen wollen, wir die Information irgendwie *messen* müssen. Das ist genau die Operation, die wir oben mit dem `measure_all()` erreicht haben.\n",
    "Hierbei muss sich das Qubit nun entscheiden ob es entweder eine $0$ oder eine $1$ wird, je nachdem wie nah es sich an den beiden Punkten befindet.\n",
    "\n",
    "**Aufgabe:** Was schätzt du denn, was passiert, wenn es sich genau in der Mitte, also auf dem Äquator der Kugel, befindet?"
   ]
  },
  {
   "attachments": {},
   "cell_type": "markdown",
   "id": "a131a7c6",
   "metadata": {},
   "source": []
  },
  {
   "attachments": {},
   "cell_type": "markdown",
   "id": "c23dc4db",
   "metadata": {},
   "source": [
    "Schauen wir doch mal ob das stimmt. Im folgenden erzeugen wir ein Quantum Circuit auf das wir sogenannte `h` Gates anwenden. Die bringen uns von unserem Grundzustand nämlich genau auf den Äquator:\n",
    "\n",
    "![Plus-State](images/plusstate.png)"
   ]
  },
  {
   "cell_type": "code",
   "execution_count": null,
   "id": "82f510de",
   "metadata": {},
   "outputs": [],
   "source": [
    "quantum_circuit = QuantumCircuit(qubits)\n",
    "\n",
    "# --- Ab hier dein Code ---\n",
    "\n",
    "\n",
    "# -------------------------\n",
    "\n",
    "quantum_circuit.draw()"
   ]
  },
  {
   "attachments": {},
   "cell_type": "markdown",
   "id": "b573a208",
   "metadata": {},
   "source": [
    "Führe den folgenden Code einfach ein paar mal aus und beobachte wie sich das Mapping, bzw. das Bild verändert."
   ]
  },
  {
   "cell_type": "code",
   "execution_count": null,
   "id": "e773fcf8",
   "metadata": {},
   "outputs": [],
   "source": [
    "mapping = create_mapping(quantum_circuit)\n",
    "q_image = convert_image(qubits, image, mapping, pixels_to_transform)\n",
    "\n",
    "print_mapping(mapping)\n",
    "\n",
    "imshow(q_image)"
   ]
  },
  {
   "attachments": {},
   "cell_type": "markdown",
   "id": "e152291e",
   "metadata": {},
   "source": [
    "Klasse! Jetzt weißt du ja schon, dass so ein Qubit mehr Zustände annehmen kann, als ein klassissches Bit.\n",
    "Es gibt aber noch mehr! Bisher war immer die Rede von einem einzigen Qubit. Wir können im Quantencomputing aber auch zwei Qubits miteinander verschränken, so, dass wenn wir eins der beiden messen, das andere exakt den gleichen Zustand annehmen wird.\n",
    "Das ist ein bisschen schwierig zu erklären, am Besten fragst du uns einfach wenn du mehr dazu wissen möchtest!\n",
    "\n"
   ]
  },
  {
   "attachments": {},
   "cell_type": "markdown",
   "id": "7a2f3b32",
   "metadata": {},
   "source": [
    "## Die vertauschte Katze\n",
    "\n",
    "Wir können diese Verschränkung allerdings nutzen um den Zustand zweier Qubits zu tauschen und somit auch die Farben in unserem Bild.\n",
    "Dazu erzeugen wir ein Quantumcircuit mit `3` mal so vielen Qubits wie wir bisher gebraucht haben, da wir nun alle `3` Farbkanäle abbilden wollen.\n",
    "Anschliessend tauschen wir jeweils die Qubits der Rot (0,1)- und Grünkanäle (2,3)."
   ]
  },
  {
   "cell_type": "code",
   "execution_count": null,
   "id": "e8b1540e",
   "metadata": {},
   "outputs": [],
   "source": [
    "rgb_qubits = create_rgb_qubits(qubits)\n",
    "quantum_circuit = QuantumCircuit(*rgb_qubits)\n",
    "\n",
    "quantum_circuit.swap(0, 2)\n",
    "quantum_circuit.swap(1, 3)\n",
    "\n",
    "quantum_circuit.draw()"
   ]
  },
  {
   "attachments": {},
   "cell_type": "markdown",
   "id": "b964dc3d",
   "metadata": {},
   "source": [
    "Jetzt wieder der Code um das Mapping zu erzeugen und es auf das Bild anzuwenden..\n",
    "Spiele gerne ein wenig mit den Bits herum und schaue wie sich das Bild verändert."
   ]
  },
  {
   "cell_type": "code",
   "execution_count": null,
   "id": "75e9aad1",
   "metadata": {},
   "outputs": [],
   "source": [
    "mapping = create_rgb_mapping(quantum_circuit)\n",
    "q_image = convert_rgb_image(qubits, image, mapping, pixels_to_transform)\n",
    "imshow(q_image)"
   ]
  },
  {
   "attachments": {},
   "cell_type": "markdown",
   "id": "b88ef5f3",
   "metadata": {},
   "source": [
    "## Es geht auf den Quantencomputer\n",
    "\n",
    "Zum Abschluss kannst du dir jetzt nochmal ein eigenes Circuit bauen (lass dich gerne von den vorherigen inspirieren) und dieses an einen echten Quantencomputer schicken!"
   ]
  },
  {
   "cell_type": "code",
   "execution_count": null,
   "id": "60f23232",
   "metadata": {},
   "outputs": [],
   "source": [
    "quantum_circuit = QuantumCircuit(3 * qubits)\n",
    "\n",
    "# --- Ab hier dein Code ---\n",
    "\n",
    "\n",
    "# -------------------------\n",
    "\n",
    "quantum_circuit.draw()"
   ]
  },
  {
   "attachments": {},
   "cell_type": "markdown",
   "id": "ca5ce9b9",
   "metadata": {},
   "source": [
    "Zuerst simulieren wir das ganze nochmal um sicherzugehen, dass es auch den Effekt erzielt den du haben möchtest."
   ]
  },
  {
   "cell_type": "code",
   "execution_count": null,
   "id": "660a2bc2",
   "metadata": {},
   "outputs": [],
   "source": [
    "mapping = create_rgb_mapping(quantum_circuit)\n",
    "q_image = convert_rgb_image(qubits, image, mapping, pixels_to_transform)\n",
    "\n",
    "# print_mapping(mapping)\n",
    "\n",
    "imshow(q_image)"
   ]
  },
  {
   "cell_type": "code",
   "execution_count": null,
   "id": "6e4d5997",
   "metadata": {},
   "outputs": [],
   "source": [
    "# backend = \"ibm_oslo\" # 7 qubits\n",
    "backend = None\n",
    "\n",
    "mapping = create_rgb_mapping(quantum_circuit, backend=backend)\n",
    "q_image = convert_rgb_image(qubits, image, mapping, pixels_to_transform)\n",
    "\n",
    "# print_mapping(mapping)\n",
    "\n",
    "imshow(q_image)"
   ]
  },
  {
   "cell_type": "code",
   "execution_count": null,
   "id": "038626bf",
   "metadata": {},
   "outputs": [],
   "source": [
    "imsave(\"./results/Cat.jpg\", q_image)"
   ]
  },
  {
   "attachments": {},
   "cell_type": "markdown",
   "id": "b226673c",
   "metadata": {},
   "source": [
    "## Die verrauschte Katze\n",
    "\n",
    "**Zusatzmaterial**: Bisher liefen unsere Simulation und Berechnung in einer \"idealen\" Welt. Das heisst, wir hatten keine Störeinflüsse von außen und die Simulationen lieferten stets das Ergebnis, das wir mathematisch auch erwarten würden.\n",
    "Nun sind so Quantencomputer heutzutage leider noch alles andere als perfekt. \n",
    "Um uns das mal genauer anzuschauen, lernst du hier noch eine weitere tolle Eigenschaft von Quantencomputern kennen. Jede Operation die wir auf einem solchen Gerät ausführen ist (bis auf die Messung am Ende) umkehrbar!\n",
    "Das bedeutet, wir können das Circuit von gerade eben einfach nehmen, umdrehen (`inverse()`) und an das Original anhängen (`.compose()`).\n",
    "Das Ergebnis sollte im Idealfall ein Circuit sein, das nichts an unserem Bild ändert.. , oder?\n",
    "\n",
    "Der folgende Code macht genau das gerade beschriebene. Sicher erkennst du die einzelnen Teile des erzeugten Circuits wieder."
   ]
  },
  {
   "cell_type": "code",
   "execution_count": null,
   "id": "2f5319c0",
   "metadata": {},
   "outputs": [],
   "source": [
    "REPS = 7  # how often do you want to repeat your circuit ?\n",
    "\n",
    "overall_quantum_circuit = QuantumCircuit(3 * qubits)\n",
    "\n",
    "for i in range(REPS):\n",
    "    overall_quantum_circuit.compose(quantum_circuit, inplace=True)\n",
    "    overall_quantum_circuit.barrier()\n",
    "    overall_quantum_circuit.compose(quantum_circuit.inverse(), inplace=True)\n",
    "    overall_quantum_circuit.barrier()\n",
    "\n",
    "overall_quantum_circuit.draw()"
   ]
  },
  {
   "attachments": {},
   "cell_type": "markdown",
   "id": "a4163dbd",
   "metadata": {},
   "source": [
    "Nun führen wir wieder den bekannten Code zum erzeugen des Mappings und darstellen des Bildes aus, übergeben allerdings ein sogenanntes `backend` welches ein detailgetreues Modell eines echten Quantencomputers ist.\n",
    "Dieses Modell wird in der Simulation dann verwendet um das Verhalten des echten Computers nachzubilden."
   ]
  },
  {
   "cell_type": "code",
   "execution_count": null,
   "id": "4a20371e",
   "metadata": {},
   "outputs": [],
   "source": [
    "backend = FakeMelbourne()\n",
    "\n",
    "mapping = create_rgb_mapping(overall_quantum_circuit, backend=backend)\n",
    "q_image = convert_rgb_image(qubits, image, mapping, pixels_to_transform)\n",
    "\n",
    "# print_mapping(mapping)\n",
    "\n",
    "imshow(q_image)"
   ]
  },
  {
   "attachments": {},
   "cell_type": "markdown",
   "id": "965c5e12",
   "metadata": {},
   "source": [
    "Huch! Da ist wohl was schiefgegangen, oder?\n",
    "Nein, leider nicht. Die Quantencomputer sind in der Tat sehr Fehleranfällig heutzutage.\n",
    "\n",
    "Aber Zeiten ändern sich! Die Leute von IBM, deren Maschinen wir heute nutzen, und viele andere Forscher auf der Welt versuchen Quantencomputer so schnell wie möglich fehlerfrei und vor allem größer zu bauen.\n",
    "\n"
   ]
  }
 ],
 "metadata": {
  "kernelspec": {
   "display_name": "Python 3.10.10 ('.venv': poetry)",
   "language": "python",
   "name": "python3"
  },
  "language_info": {
   "codemirror_mode": {
    "name": "ipython",
    "version": 3
   },
   "file_extension": ".py",
   "mimetype": "text/x-python",
   "name": "python",
   "nbconvert_exporter": "python",
   "pygments_lexer": "ipython3",
   "version": "3.10.10"
  },
  "vscode": {
   "interpreter": {
    "hash": "a016c0cab06263cf1ce784a51b6ca9453aa2e7e0116c86131700c7e04108fac5"
   }
  }
 },
 "nbformat": 4,
 "nbformat_minor": 5
}
