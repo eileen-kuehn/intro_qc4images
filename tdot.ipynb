{
 "cells": [
  {
   "attachments": {},
   "cell_type": "markdown",
   "id": "319fe4d9",
   "metadata": {},
   "source": [
    "# Qolor Qoding\n",
    "\n",
    "In dieser Übung wollen wir mit Hilfe von Quantencomputern dieses Bild einer Katze bearbeiten.\n",
    "\n",
    "<img src=\"./images/Cat.jpg\" width=250>\n",
    "\n",
    "Ja, du kannst dafür auch einen ganz normalen Computer benutzen, aber mit dem Quantencomputer sind ein paar sehr tolle Effekte möglich und auf die Art und Weise können wir dir gleich mal zeigen, wie es so ist, einen Quantencomputer zu benutzen."
   ]
  },
  {
   "cell_type": "code",
   "execution_count": 1,
   "id": "b902f169",
   "metadata": {},
   "outputs": [],
   "source": [
    "import tdot_utils\n",
    "from tdot_utils import *"
   ]
  },
  {
   "attachments": {},
   "cell_type": "markdown",
   "id": "1e91a3a0",
   "metadata": {},
   "source": [
    "## Vorbereitung zum Laden der Katze auf den Quantencomputer\n",
    "\n",
    "Jetzt kommt noch etwas wichtiges zu Beginn: Wir müssen festlegen, wie viele Qubits wir verwenden wollen. Du kannst einen Wert zwischen `1` und `8` wählen. Aber fangen wir erstmal mit `2` an, diesen Wert kannst du später noch ändern. \n",
    "\n",
    "Jetzt wird es ein wenig kompliziert. Farbwerte können Werte zwischen `0` und `255` annehmen. Ein Computer benötigt dafür genau `8 Bit` - also 8 Werte, die Null oder Eins sind. \n",
    "\n",
    "Diese acht Werte kriegen wir heute schon locker auf einen Quantencomputer, aber weniger wären trotzdem besser. Weniger Werte bedeuten nämlich, weniger Rechenaufwand - auf normalen Computern und auf Quantencomputern. Unser Ziel ist es also, die Genauigkeit etwas zu geringern.\n",
    "\n",
    "Um die Genauigkeit zu verringern, stell dir am besten einmal vor, du willst einer Freundin eine zweistellige Zahl übermitteln, also zB. `63`. Dafür darfst du ihr aber nur eine einstellige Zahl mitteilen. Wie könntest du das machen? \n",
    "\n",
    "Nun - perfekt geht das nicht. Man kann nicht eine Nachricht schicken, die mehr Information hat als Stellen. Man kann aber nah drankommen. Du könntest deine Zahl zum Beispiel auf die nächste Zehnerstelle runden und deiner Freundin dann die Zehnerstelle nennen. Du könntest also `63` runden auf `60` und deiner Freundin dann die `6` nennen. Diese wüsste dann, dass sie `6` mit `10` multiplizieren muss und weiß daher: \"Die Zahl war ungefähr 60\". \n",
    "Das ist natürlich nicht perfekt. Informationen gehen verloren, aber statt 2 Ziffern musst du nur eine übergeben - stell dir das mal in einem ganz großen Stil vor. \n",
    "\n",
    "Genau das machen wir nachfolgend mit unserem Bild. So sparen wir für jeden Pixelwert etliche Ziffern bzw. Bits - das sind Millionen für ein ganzes Bild! \n",
    "\n",
    "Führe die folgende Zelle einfach nur aus. Das Bild wird nach dieser Reduzierung ein bisschen anders aussehen, denn auch hier gehen ja Informationen und damit Details verloren. Wenn du das ganze noch besser verstehen willst, frag uns einfach :)\n",
    "\n",
    "Wenn du mehr Qubits angibst, gehen weniger Informationen verloren. Bei `8` Qubits gibt es keinen Informationsverlust, dann dauert die Bildbearbeitung aber lange."
   ]
  },
  {
   "cell_type": "code",
   "execution_count": 2,
   "id": "55939e5d",
   "metadata": {},
   "outputs": [
    {
     "data": {
      "application/vnd.jupyter.widget-view+json": {
       "model_id": "406165b4e7df46369815445a5ce91a8b",
       "version_major": 2,
       "version_minor": 0
      },
      "text/plain": [
       "interactive(children=(IntSlider(value=2, description='Qubit Anzahl', max=8), Output(outputs=({'output_type': '…"
      ]
     },
     "execution_count": 2,
     "metadata": {},
     "output_type": "execute_result"
    }
   ],
   "source": [
    "qubit_cat"
   ]
  },
  {
   "attachments": {},
   "cell_type": "markdown",
   "id": "2ea01e41",
   "metadata": {},
   "source": [
    "## Bildteile auswählen \n",
    "\n",
    "Wir können natürlich alle Pixel auf dem Quanten Computer bearbeiten lassen. Aber wir finden, dass es cool aussieht, nur Teile des Bildes umzuformen. \n",
    "\n",
    "Im Folgenden kannst du daher mit den Slidern einstellen, welchen Bereich du gern nachfolgend mit dem Quantencomputer bearbeiten lassen möchtest. Schaue dir an, wie sich das weiße Rechteck verändert. Wenn du zufrieden mit deiner Wahl bist, gehe einfach weiter im Text."
   ]
  },
  {
   "cell_type": "code",
   "execution_count": 3,
   "id": "11021c11",
   "metadata": {},
   "outputs": [
    {
     "data": {
      "application/vnd.jupyter.widget-view+json": {
       "model_id": "9671a14ec5074d90884d8b8a7a098ddf",
       "version_major": 2,
       "version_minor": 0
      },
      "text/plain": [
       "VBox(children=(HBox(children=(IntSlider(value=200, description='Links (x)', max=512), IntSlider(value=30, desc…"
      ]
     },
     "execution_count": 3,
     "metadata": {},
     "output_type": "execute_result"
    }
   ],
   "source": [
    "cat_selection"
   ]
  },
  {
   "attachments": {},
   "cell_type": "markdown",
   "id": "95bf6f98",
   "metadata": {},
   "source": [
    "## Los geht's mit Quanten!"
   ]
  },
  {
   "attachments": {},
   "cell_type": "markdown",
   "id": "0e82fb35",
   "metadata": {},
   "source": [
    "Ein wesentlicher Bestandteil zum Bedienen von den Quantencomputern wie wir sie heute verwenden möchten, ist die Definition eines Quantenschaltkreises (Quantum Circuit).\n",
    "Dieser gibt an, wie die Information auf dem Quantencomputer verarbeitet werden.\n",
    "Du kannst dir das ein bisschen so vorstellen, wie im Mathematikunterricht: Du addierst oder subtrahierst einen Wert von einer anderen Zahl.\n",
    "Im Fall von Quantenschaltkreisen, wäre ein Qubit die Zahl und jede Addition oder Subtraktion eines Wertes, die darauf angewendet wird, verändert diese Zahl.\n",
    "Diese Operation nennen wir hier: Gate."
   ]
  },
  {
   "cell_type": "code",
   "execution_count": 4,
   "id": "a7097b17",
   "metadata": {},
   "outputs": [
    {
     "data": {
      "application/vnd.jupyter.widget-view+json": {
       "model_id": "cb7c5b2c48a142d1b4aba6f9448867fe",
       "version_major": 2,
       "version_minor": 0
      },
      "text/plain": [
       "VBox(children=(ToggleButtons(description='Verarbeitung des Bildes mit dem Quantencomputer', options=('Original…"
      ]
     },
     "execution_count": 4,
     "metadata": {},
     "output_type": "execute_result"
    }
   ],
   "source": [
    "cat_types"
   ]
  },
  {
   "attachments": {},
   "cell_type": "markdown",
   "id": "b88ef5f3",
   "metadata": {},
   "source": [
    "## Jetzt bist du dran\n",
    "\n",
    "Zum Abschluss kannst du dir jetzt noch dein eigenes Circuit bauen (lass dich gerne von den vorherigen inspirieren).\n",
    "\n",
    "Frag uns bitte jederzeit, wie genau der Code aussieht, um die einzelnen Gates zu erzeugen."
   ]
  },
  {
   "cell_type": "code",
   "execution_count": null,
   "id": "60f23232",
   "metadata": {},
   "outputs": [],
   "source": [
    "quantum_circuit = QuantumCircuit(3 * qubits.value)\n",
    "\n",
    "# --- Ab hier dein Code ---\n",
    "\n",
    "\n",
    "# -------------------------\n",
    "\n",
    "quantum_circuit.draw(\"mpl\")"
   ]
  },
  {
   "attachments": {},
   "cell_type": "markdown",
   "id": "ca5ce9b9",
   "metadata": {},
   "source": [
    "Und nun testen wir, was für einen Effekt der von dir erzeugte Circuit hat."
   ]
  },
  {
   "cell_type": "code",
   "execution_count": null,
   "id": "660a2bc2",
   "metadata": {},
   "outputs": [],
   "source": [
    "mapping = create_rgb_mapping(quantum_circuit)\n",
    "q_image = convert_rgb_image(qubits, image, mapping, pixels_to_transform)\n",
    "\n",
    "# print_mapping(mapping)\n",
    "\n",
    "plt.imshow(q_image)\n",
    "plt.show()"
   ]
  },
  {
   "cell_type": "code",
   "execution_count": null,
   "id": "038626bf",
   "metadata": {},
   "outputs": [],
   "source": [
    "plt.imsave(\"./results/Cat.jpg\", q_image)"
   ]
  }
 ],
 "metadata": {
  "kernelspec": {
   "display_name": "Python 3.10.10 ('.venv': poetry)",
   "language": "python",
   "name": "python3"
  },
  "language_info": {
   "codemirror_mode": {
    "name": "ipython",
    "version": 3
   },
   "file_extension": ".py",
   "mimetype": "text/x-python",
   "name": "python",
   "nbconvert_exporter": "python",
   "pygments_lexer": "ipython3",
   "version": "3.10.10"
  },
  "vscode": {
   "interpreter": {
    "hash": "a016c0cab06263cf1ce784a51b6ca9453aa2e7e0116c86131700c7e04108fac5"
   }
  }
 },
 "nbformat": 4,
 "nbformat_minor": 5
}
